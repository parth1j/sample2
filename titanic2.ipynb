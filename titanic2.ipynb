{
  "nbformat": 4,
  "nbformat_minor": 0,
  "metadata": {
    "colab": {
      "name": "titanic2.ipynb",
      "provenance": [],
      "collapsed_sections": []
    },
    "kernelspec": {
      "name": "python3",
      "display_name": "Python 3"
    },
    "accelerator": "GPU"
  },
  "cells": [
    {
      "cell_type": "code",
      "metadata": {
        "id": "arXWLQez17Y3",
        "colab_type": "code",
        "colab": {}
      },
      "source": [
        "import numpy as np\n",
        "import pandas as pd\n",
        "import matplotlib.pyplot as plt\n",
        "from sklearn.preprocessing import StandardScaler"
      ],
      "execution_count": 0,
      "outputs": []
    },
    {
      "cell_type": "code",
      "metadata": {
        "id": "ysQAPXJ4p7dq",
        "colab_type": "code",
        "colab": {}
      },
      "source": [
        "def plot(iter,c):\n",
        "  plt.scatter(iter,c,color='red')\n",
        "  plt.show"
      ],
      "execution_count": 0,
      "outputs": []
    },
    {
      "cell_type": "code",
      "metadata": {
        "id": "eGloL50F1Yfb",
        "colab_type": "code",
        "colab": {}
      },
      "source": [
        "def sigmoid(z):\n",
        "  return (1/(1+np.exp(z)))"
      ],
      "execution_count": 0,
      "outputs": []
    },
    {
      "cell_type": "code",
      "metadata": {
        "id": "xRd7V0iQ2hGH",
        "colab_type": "code",
        "colab": {}
      },
      "source": [
        "def initialize(x):\n",
        "  w=np.random.rand(x.shape[1],1)\n",
        "  return w"
      ],
      "execution_count": 0,
      "outputs": []
    },
    {
      "cell_type": "code",
      "metadata": {
        "id": "OmZSY2qW6vq3",
        "colab_type": "code",
        "colab": {}
      },
      "source": [
        "def costfun(ans,y):\n",
        "  j=np.dot(y.transpose(),np.log(ans))+np.dot((1-y.transpose()),np.log(1-ans))\n",
        "  j=-j/(y.shape[0])\n",
        "  return j"
      ],
      "execution_count": 0,
      "outputs": []
    },
    {
      "cell_type": "code",
      "metadata": {
        "id": "D5DVEllH-xTA",
        "colab_type": "code",
        "colab": {}
      },
      "source": [
        "def updater(ans,x,y,para):\n",
        "  up=np.dot(x.transpose(),(ans-y))\n",
        "  up=up/(y.shape[0])\n",
        "  up=up*para\n",
        "  return up"
      ],
      "execution_count": 0,
      "outputs": []
    },
    {
      "cell_type": "code",
      "metadata": {
        "id": "1nrE1ofjASzT",
        "colab_type": "code",
        "colab": {}
      },
      "source": [
        "def logistic(X,Y2,alpha):\n",
        "  theta=initialize(X)\n",
        "  theta=theta[:,0]\n",
        "  update=np.zeros(7)\n",
        "  cost=np.zeros((200,1))\n",
        "  it=np.zeros((200,1))\n",
        "  for i in range(1,200):\n",
        "    a=np.dot(-X,theta)\n",
        "    a=sigmoid(a)\n",
        "    cost[i-1][0]=costfun(a,Y2)\n",
        "    it[i-1][0]=i\n",
        "    update=updater(a,X,Y2,alpha)\n",
        "    theta=np.add(theta,-1*(update))\n",
        "  plot(it,cost)\n",
        "  return theta,update    "
      ],
      "execution_count": 0,
      "outputs": []
    },
    {
      "cell_type": "code",
      "metadata": {
        "id": "v4PJdyr2LNL6",
        "colab_type": "code",
        "colab": {}
      },
      "source": [
        "def pred(test,predictor):\n",
        "  y_pred=a=np.dot(-test,predictor)\n",
        "  a=sigmoid(a)\n",
        "  a=np.around(a)\n",
        "  return a\n"
      ],
      "execution_count": 0,
      "outputs": []
    },
    {
      "cell_type": "code",
      "metadata": {
        "id": "3GWERoSVDsC5",
        "colab_type": "code",
        "outputId": "2a12eb5e-71a4-4408-b397-1662d7800cf6",
        "colab": {
          "resources": {
            "http://localhost:8080/nbextensions/google.colab/files.js": {
              "data": "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",
              "ok": true,
              "headers": [
                [
                  "content-type",
                  "application/javascript"
                ]
              ],
              "status": 200,
              "status_text": ""
            }
          },
          "base_uri": "https://localhost:8080/",
          "height": 108
        }
      },
      "source": [
        "from google.colab import files\n",
        "uploaded = files.upload()"
      ],
      "execution_count": 0,
      "outputs": [
        {
          "output_type": "display_data",
          "data": {
            "text/html": [
              "\n",
              "     <input type=\"file\" id=\"files-f2713b11-bf93-42db-9635-d837085ac8a2\" name=\"files[]\" multiple disabled />\n",
              "     <output id=\"result-f2713b11-bf93-42db-9635-d837085ac8a2\">\n",
              "      Upload widget is only available when the cell has been executed in the\n",
              "      current browser session. Please rerun this cell to enable.\n",
              "      </output>\n",
              "      <script src=\"/nbextensions/google.colab/files.js\"></script> "
            ],
            "text/plain": [
              "<IPython.core.display.HTML object>"
            ]
          },
          "metadata": {
            "tags": []
          }
        },
        {
          "output_type": "stream",
          "text": [
            "Saving test.csv to test (1).csv\n",
            "Saving train.csv to train (1).csv\n"
          ],
          "name": "stdout"
        }
      ]
    },
    {
      "cell_type": "code",
      "metadata": {
        "id": "yTEjblH-DoTZ",
        "colab_type": "code",
        "colab": {}
      },
      "source": [
        "import io\n",
        "train = pd.read_csv(io.BytesIO(uploaded['train.csv']))\n",
        "test=pd.read_csv(io.BytesIO(uploaded['test.csv']))\n",
        "test2=pd.read_csv(io.BytesIO(uploaded['test.csv']))\n",
        "Y=train[\"Survived\"]\n",
        "train=train.drop([\"PassengerId\",\"Ticket\",\"Fare\",\"Cabin\",\"Survived\"],inplace=False,axis=1)\n",
        "test=test.drop([\"PassengerId\",\"Ticket\",\"Fare\",\"Cabin\"],inplace=False,axis=1)\n",
        "traintest=[train,test]\n",
        "for dataset in traintest:\n",
        "  dataset[\"Name\"]=dataset[\"Name\"].str.extract('([a-zA-Z]+)\\.',expand=False)\n",
        "maps={\"Mr\":0,\"Miss\":1,\"Mrs\":2,\"Master\":3,\"Dr\":3,\"Rev\":3,\"Mlle\":3,\"Col\":3,\"Major\":3,\"Capt\":13,\n",
        "     \"Mme\":3,\"Lady\":3,\"Jonkheer\":3,\"Countess\":3,\"Don\":3,\"Ms\":3}\n",
        "sex={\"male\":0,\"female\":1}\n",
        "em={\"S\":0,\"C\":1,\"Q\":2}\n",
        "#train[\"Title\"].value_counts()\n",
        "for dataset in traintest:\n",
        "  dataset[\"Name\"]=dataset[\"Name\"].map(maps)\n",
        "  dataset[\"Sex\"]=dataset[\"Sex\"].map(sex)\n",
        "  dataset[\"Embarked\"]=dataset[\"Embarked\"].map(em)\n",
        "  dataset['Name']=dataset[\"Name\"].fillna(0)\n",
        "for dataset in traintest:\n",
        "  dataset['Embarked']=dataset[\"Embarked\"].fillna(0)\n",
        "train[\"Age\"].fillna(train.groupby(\"Name\")[\"Age\"].transform(\"median\"), inplace=True)\n",
        "test[\"Age\"].fillna(test.groupby(\"Name\")[\"Age\"].transform(\"median\"), inplace=True)\n",
        "for dataset in traintest:\n",
        "  dataset['Age']=(dataset[\"Age\"])/40"
      ],
      "execution_count": 0,
      "outputs": []
    },
    {
      "cell_type": "code",
      "metadata": {
        "id": "8nLYBuIIFQak",
        "colab_type": "code",
        "colab": {}
      },
      "source": [
        "train=train.to_numpy()\n",
        "test=test.to_numpy()\n",
        "Y=Y.to_numpy()\n",
        "sx=StandardScaler()\n",
        "train=sx.fit_transform(train)\n"
      ],
      "execution_count": 0,
      "outputs": []
    },
    {
      "cell_type": "code",
      "metadata": {
        "id": "AXA8GVTCFSKO",
        "colab_type": "code",
        "outputId": "7ca860ef-6fbf-4819-9551-17cd664709a2",
        "colab": {
          "base_uri": "https://localhost:8080/",
          "height": 265
        }
      },
      "source": [
        "predictor,upi=logistic(train,Y,0.1)"
      ],
      "execution_count": 0,
      "outputs": [
        {
          "output_type": "display_data",
          "data": {
            "image/png": "iVBORw0KGgoAAAANSUhEUgAAAXQAAAD4CAYAAAD8Zh1EAAAABHNCSVQICAgIfAhkiAAAAAlwSFlz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\n",
            "text/plain": [
              "<Figure size 432x288 with 1 Axes>"
            ]
          },
          "metadata": {
            "tags": []
          }
        }
      ]
    },
    {
      "cell_type": "code",
      "metadata": {
        "id": "06kAz3xTSqbl",
        "colab_type": "code",
        "outputId": "6cbeda38-8d92-472d-e38e-1c7b0e8a6634",
        "colab": {
          "base_uri": "https://localhost:8080/",
          "height": 437
        }
      },
      "source": [
        "y_test=pred(test,predictor)\n",
        "y_test"
      ],
      "execution_count": 0,
      "outputs": [
        {
          "output_type": "execute_result",
          "data": {
            "text/plain": [
              "array([0., 0., 0., 0., 0., 0., 0., 0., 1., 0., 0., 0., 1., 0., 1., 1., 0.,\n",
              "       0., 0., 1., 0., 0., 1., 0., 1., 0., 1., 0., 0., 0., 0., 0., 0., 0.,\n",
              "       0., 0., 0., 0., 0., 0., 0., 0., 0., 1., 1., 0., 0., 0., 1., 0., 0.,\n",
              "       0., 0., 0., 0., 0., 0., 0., 0., 1., 0., 0., 0., 0., 1., 1., 0., 0.,\n",
              "       0., 1., 0., 0., 0., 0., 1., 0., 0., 1., 0., 0., 0., 0., 0., 0., 0.,\n",
              "       0., 0., 0., 1., 0., 0., 0., 1., 0., 0., 0., 1., 0., 0., 0., 1., 0.,\n",
              "       0., 0., 0., 0., 0., 0., 0., 0., 0., 0., 1., 0., 1., 0., 0., 0., 0.,\n",
              "       1., 1., 0., 1., 0., 0., 0., 0., 0., 0., 0., 0., 1., 0., 0., 0., 0.,\n",
              "       0., 0., 0., 0., 0., 1., 0., 0., 0., 0., 0., 0., 0., 0., 1., 0., 0.,\n",
              "       0., 0., 0., 1., 0., 0., 0., 0., 0., 1., 0., 1., 0., 0., 0., 1., 0.,\n",
              "       0., 0., 0., 0., 0., 0., 1., 0., 1., 1., 0., 0., 1., 0., 1., 0., 1.,\n",
              "       0., 0., 0., 0., 0., 0., 0., 1., 0., 1., 0., 0., 1., 0., 0., 1., 0.,\n",
              "       0., 0., 0., 0., 1., 0., 0., 0., 0., 1., 0., 0., 0., 0., 1., 0., 0.,\n",
              "       0., 1., 0., 1., 0., 0., 0., 0., 0., 0., 1., 0., 0., 0., 0., 0., 0.,\n",
              "       0., 1., 1., 1., 0., 0., 0., 0., 1., 0., 1., 0., 0., 0., 0., 0., 0.,\n",
              "       0., 0., 0., 1., 0., 0., 0., 1., 0., 0., 0., 0., 0., 0., 0., 0., 0.,\n",
              "       1., 0., 0., 0., 0., 0., 0., 0., 0., 0., 0., 0., 0., 0., 0., 0., 0.,\n",
              "       0., 0., 0., 0., 1., 0., 0., 0., 0., 0., 0., 0., 0., 0., 0., 0., 1.,\n",
              "       0., 0., 0., 0., 0., 0., 0., 0., 1., 0., 0., 0., 0., 0., 0., 0., 0.,\n",
              "       0., 1., 0., 0., 0., 0., 0., 1., 0., 0., 0., 0., 0., 0., 0., 0., 0.,\n",
              "       0., 0., 0., 1., 0., 0., 0., 1., 0., 1., 1., 0., 0., 0., 0., 0., 1.,\n",
              "       0., 0., 0., 0., 1., 1., 0., 1., 0., 0., 0., 1., 0., 0., 1., 0., 0.,\n",
              "       1., 1., 0., 0., 0., 0., 0., 0., 1., 0., 0., 0., 0., 0., 0., 0., 0.,\n",
              "       1., 0., 0., 0., 1., 0., 1., 0., 0., 1., 0., 1., 0., 0., 0., 0., 0.,\n",
              "       0., 0., 0., 1., 0., 0., 1., 0., 0., 0.])"
            ]
          },
          "metadata": {
            "tags": []
          },
          "execution_count": 197
        }
      ]
    },
    {
      "cell_type": "code",
      "metadata": {
        "id": "z46RKt5aT4zm",
        "colab_type": "code",
        "outputId": "2b586bdf-9a2f-4ec6-dbf5-53f6a5bab1f0",
        "colab": {
          "base_uri": "https://localhost:8080/",
          "height": 402
        }
      },
      "source": [
        "test2=pd.read_csv(io.BytesIO(uploaded['test.csv']))\n",
        "submission = pd.DataFrame({\n",
        "        \"PassengerId\": test2[\"PassengerId\"],\n",
        "        \"Survived\": y_test\n",
        "    })\n",
        "submission[\"Survived\"]= submission[\"Survived\"].astype(int)\n",
        "submission"
      ],
      "execution_count": 0,
      "outputs": [
        {
          "output_type": "execute_result",
          "data": {
            "text/html": [
              "<div>\n",
              "<style scoped>\n",
              "    .dataframe tbody tr th:only-of-type {\n",
              "        vertical-align: middle;\n",
              "    }\n",
              "\n",
              "    .dataframe tbody tr th {\n",
              "        vertical-align: top;\n",
              "    }\n",
              "\n",
              "    .dataframe thead th {\n",
              "        text-align: right;\n",
              "    }\n",
              "</style>\n",
              "<table border=\"1\" class=\"dataframe\">\n",
              "  <thead>\n",
              "    <tr style=\"text-align: right;\">\n",
              "      <th></th>\n",
              "      <th>PassengerId</th>\n",
              "      <th>Survived</th>\n",
              "    </tr>\n",
              "  </thead>\n",
              "  <tbody>\n",
              "    <tr>\n",
              "      <th>0</th>\n",
              "      <td>892</td>\n",
              "      <td>0</td>\n",
              "    </tr>\n",
              "    <tr>\n",
              "      <th>1</th>\n",
              "      <td>893</td>\n",
              "      <td>0</td>\n",
              "    </tr>\n",
              "    <tr>\n",
              "      <th>2</th>\n",
              "      <td>894</td>\n",
              "      <td>0</td>\n",
              "    </tr>\n",
              "    <tr>\n",
              "      <th>3</th>\n",
              "      <td>895</td>\n",
              "      <td>0</td>\n",
              "    </tr>\n",
              "    <tr>\n",
              "      <th>4</th>\n",
              "      <td>896</td>\n",
              "      <td>0</td>\n",
              "    </tr>\n",
              "    <tr>\n",
              "      <th>...</th>\n",
              "      <td>...</td>\n",
              "      <td>...</td>\n",
              "    </tr>\n",
              "    <tr>\n",
              "      <th>413</th>\n",
              "      <td>1305</td>\n",
              "      <td>0</td>\n",
              "    </tr>\n",
              "    <tr>\n",
              "      <th>414</th>\n",
              "      <td>1306</td>\n",
              "      <td>1</td>\n",
              "    </tr>\n",
              "    <tr>\n",
              "      <th>415</th>\n",
              "      <td>1307</td>\n",
              "      <td>0</td>\n",
              "    </tr>\n",
              "    <tr>\n",
              "      <th>416</th>\n",
              "      <td>1308</td>\n",
              "      <td>0</td>\n",
              "    </tr>\n",
              "    <tr>\n",
              "      <th>417</th>\n",
              "      <td>1309</td>\n",
              "      <td>0</td>\n",
              "    </tr>\n",
              "  </tbody>\n",
              "</table>\n",
              "<p>418 rows × 2 columns</p>\n",
              "</div>"
            ],
            "text/plain": [
              "     PassengerId  Survived\n",
              "0            892         0\n",
              "1            893         0\n",
              "2            894         0\n",
              "3            895         0\n",
              "4            896         0\n",
              "..           ...       ...\n",
              "413         1305         0\n",
              "414         1306         1\n",
              "415         1307         0\n",
              "416         1308         0\n",
              "417         1309         0\n",
              "\n",
              "[418 rows x 2 columns]"
            ]
          },
          "metadata": {
            "tags": []
          },
          "execution_count": 180
        }
      ]
    },
    {
      "cell_type": "code",
      "metadata": {
        "id": "-0XpymEbVEgr",
        "colab_type": "code",
        "colab": {}
      },
      "source": [
        "submission.to_csv('submission2.csv', index=False)\n",
        "files.download('submission2.csv')"
      ],
      "execution_count": 0,
      "outputs": []
    },
    {
      "cell_type": "code",
      "metadata": {
        "id": "TCHB1Y83KtZW",
        "colab_type": "code",
        "outputId": "d99a8526-499e-4174-a6be-9614a530ee5b",
        "colab": {
          "base_uri": "https://localhost:8080/",
          "height": 229
        }
      },
      "source": [
        "#train[\"Pclass\"]= train[\"Pclass\"].astype(float)\n",
        "#train[\"SibSp\"]= train[\"SibSp\"].astype(float) \n",
        "#train[\"Sex\"]= train[\"Sex\"].astype(float) \n",
        "#train[\"Parch\"]= train[\"Parch\"].astype(float)\n",
        "\n",
        "#Y=Y.astype(float)  \n",
        "\n",
        "#sx=StandardScaler()\n",
        "#train=sx.fit_transform(train)\n",
        "#train=train.to_numpy()\n",
        "#Y=Y.to_numpy()"
      ],
      "execution_count": 0,
      "outputs": [
        {
          "output_type": "error",
          "ename": "IndexError",
          "evalue": "ignored",
          "traceback": [
            "\u001b[0;31m---------------------------------------------------------------------------\u001b[0m",
            "\u001b[0;31mIndexError\u001b[0m                                Traceback (most recent call last)",
            "\u001b[0;32m<ipython-input-65-033180cd2340>\u001b[0m in \u001b[0;36m<module>\u001b[0;34m()\u001b[0m\n\u001b[0;32m----> 1\u001b[0;31m \u001b[0mtrain\u001b[0m\u001b[0;34m[\u001b[0m\u001b[0;34m\"Pclass\"\u001b[0m\u001b[0;34m]\u001b[0m\u001b[0;34m=\u001b[0m \u001b[0mtrain\u001b[0m\u001b[0;34m[\u001b[0m\u001b[0;34m\"Pclass\"\u001b[0m\u001b[0;34m]\u001b[0m\u001b[0;34m.\u001b[0m\u001b[0mastype\u001b[0m\u001b[0;34m(\u001b[0m\u001b[0mfloat\u001b[0m\u001b[0;34m)\u001b[0m\u001b[0;34m\u001b[0m\u001b[0;34m\u001b[0m\u001b[0m\n\u001b[0m\u001b[1;32m      2\u001b[0m \u001b[0mtrain\u001b[0m\u001b[0;34m[\u001b[0m\u001b[0;34m\"SibSp\"\u001b[0m\u001b[0;34m]\u001b[0m\u001b[0;34m=\u001b[0m \u001b[0mtrain\u001b[0m\u001b[0;34m[\u001b[0m\u001b[0;34m\"SibSp\"\u001b[0m\u001b[0;34m]\u001b[0m\u001b[0;34m.\u001b[0m\u001b[0mastype\u001b[0m\u001b[0;34m(\u001b[0m\u001b[0mfloat\u001b[0m\u001b[0;34m)\u001b[0m\u001b[0;34m\u001b[0m\u001b[0;34m\u001b[0m\u001b[0m\n\u001b[1;32m      3\u001b[0m \u001b[0mtrain\u001b[0m\u001b[0;34m[\u001b[0m\u001b[0;34m\"Sex\"\u001b[0m\u001b[0;34m]\u001b[0m\u001b[0;34m=\u001b[0m \u001b[0mtrain\u001b[0m\u001b[0;34m[\u001b[0m\u001b[0;34m\"Sex\"\u001b[0m\u001b[0;34m]\u001b[0m\u001b[0;34m.\u001b[0m\u001b[0mastype\u001b[0m\u001b[0;34m(\u001b[0m\u001b[0mfloat\u001b[0m\u001b[0;34m)\u001b[0m\u001b[0;34m\u001b[0m\u001b[0;34m\u001b[0m\u001b[0m\n\u001b[1;32m      4\u001b[0m \u001b[0mtrain\u001b[0m\u001b[0;34m[\u001b[0m\u001b[0;34m\"Parch\"\u001b[0m\u001b[0;34m]\u001b[0m\u001b[0;34m=\u001b[0m \u001b[0mtrain\u001b[0m\u001b[0;34m[\u001b[0m\u001b[0;34m\"Parch\"\u001b[0m\u001b[0;34m]\u001b[0m\u001b[0;34m.\u001b[0m\u001b[0mastype\u001b[0m\u001b[0;34m(\u001b[0m\u001b[0mfloat\u001b[0m\u001b[0;34m)\u001b[0m\u001b[0;34m\u001b[0m\u001b[0;34m\u001b[0m\u001b[0m\n\u001b[1;32m      5\u001b[0m \u001b[0mY\u001b[0m\u001b[0;34m=\u001b[0m\u001b[0mY\u001b[0m\u001b[0;34m.\u001b[0m\u001b[0mastype\u001b[0m\u001b[0;34m(\u001b[0m\u001b[0mfloat\u001b[0m\u001b[0;34m)\u001b[0m\u001b[0;34m\u001b[0m\u001b[0;34m\u001b[0m\u001b[0m\n",
            "\u001b[0;31mIndexError\u001b[0m: only integers, slices (`:`), ellipsis (`...`), numpy.newaxis (`None`) and integer or boolean arrays are valid indices"
          ]
        }
      ]
    }
  ]
}
##
